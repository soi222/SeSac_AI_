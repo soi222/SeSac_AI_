{
 "cells": [
  {
   "cell_type": "code",
   "execution_count": 27,
   "metadata": {},
   "outputs": [],
   "source": [
    "import os\n",
    "import numpy as np\n",
    "import pandas as pd\n",
    "import matplotlib.pyplot as plt\n",
    "import seaborn as sns\n",
    "\n",
    "fpath = \"./dataset\""
   ]
  },
  {
   "cell_type": "markdown",
   "metadata": {},
   "source": [
    "### 복습"
   ]
  },
  {
   "cell_type": "code",
   "execution_count": 2,
   "metadata": {},
   "outputs": [
    {
     "data": {
      "text/html": [
       "<div>\n",
       "<style scoped>\n",
       "    .dataframe tbody tr th:only-of-type {\n",
       "        vertical-align: middle;\n",
       "    }\n",
       "\n",
       "    .dataframe tbody tr th {\n",
       "        vertical-align: top;\n",
       "    }\n",
       "\n",
       "    .dataframe thead th {\n",
       "        text-align: right;\n",
       "    }\n",
       "</style>\n",
       "<table border=\"1\" class=\"dataframe\">\n",
       "  <thead>\n",
       "    <tr style=\"text-align: right;\">\n",
       "      <th></th>\n",
       "      <th>수학</th>\n",
       "      <th>영어</th>\n",
       "      <th>성별</th>\n",
       "      <th>합격</th>\n",
       "    </tr>\n",
       "  </thead>\n",
       "  <tbody>\n",
       "    <tr>\n",
       "      <th>0</th>\n",
       "      <td>90</td>\n",
       "      <td>90.0</td>\n",
       "      <td>남</td>\n",
       "      <td>True</td>\n",
       "    </tr>\n",
       "    <tr>\n",
       "      <th>1</th>\n",
       "      <td>80</td>\n",
       "      <td>70.0</td>\n",
       "      <td>여</td>\n",
       "      <td>False</td>\n",
       "    </tr>\n",
       "    <tr>\n",
       "      <th>2</th>\n",
       "      <td>70</td>\n",
       "      <td>90.0</td>\n",
       "      <td>남</td>\n",
       "      <td>True</td>\n",
       "    </tr>\n",
       "  </tbody>\n",
       "</table>\n",
       "</div>"
      ],
      "text/plain": [
       "   수학    영어 성별     합격\n",
       "0  90  90.0  남   True\n",
       "1  80  70.0  여  False\n",
       "2  70  90.0  남   True"
      ]
     },
     "execution_count": 2,
     "metadata": {},
     "output_type": "execute_result"
    }
   ],
   "source": [
    "## DataFrame 만들기\n",
    "\n",
    "exam_data = {\n",
    "    \"수학\":[90,80,70],\n",
    "    \"영어\":[90.,70.,90.],\n",
    "    \"성별\":[\"남\",\"여\",\"남\"],\n",
    "    \"합격\":[True,False,True]\n",
    "}\n",
    "\n",
    "exam_df = pd.DataFrame(exam_data)\n",
    "exam_df"
   ]
  },
  {
   "cell_type": "code",
   "execution_count": 5,
   "metadata": {},
   "outputs": [
    {
     "name": "stdout",
     "output_type": "stream",
     "text": [
      "<class 'pandas.core.frame.DataFrame'>\n",
      "RangeIndex: 3 entries, 0 to 2\n",
      "Data columns (total 4 columns):\n",
      " #   Column  Non-Null Count  Dtype  \n",
      "---  ------  --------------  -----  \n",
      " 0   수학      3 non-null      int64  \n",
      " 1   영어      3 non-null      float64\n",
      " 2   성별      3 non-null      object \n",
      " 3   합격      3 non-null      bool   \n",
      "dtypes: bool(1), float64(1), int64(1), object(1)\n",
      "memory usage: 207.0+ bytes\n"
     ]
    }
   ],
   "source": [
    "## Attributes\n",
    "\n",
    "exam_df.shape      #행,열\n",
    "exam_df.columns    #columns의 이름\n",
    "exam_df.dtypes     #데이터 타입 (object = str)\n",
    "exam_df.info()     #전체적인 정보\n"
   ]
  },
  {
   "cell_type": "code",
   "execution_count": 8,
   "metadata": {},
   "outputs": [
    {
     "name": "stdout",
     "output_type": "stream",
     "text": [
      "80.0\n",
      "80.0\n",
      "10.0\n",
      "100.0\n",
      "5.773502691896258\n",
      "70\n",
      "90\n",
      "count     3.0\n",
      "mean     80.0\n",
      "std      10.0\n",
      "min      70.0\n",
      "25%      75.0\n",
      "50%      80.0\n",
      "75%      85.0\n",
      "max      90.0\n",
      "Name: 수학, dtype: float64\n"
     ]
    }
   ],
   "source": [
    "## Summary statistic\n",
    "\n",
    "print(exam_df[\"수학\"].mean())\n",
    "print(exam_df[\"수학\"].median())\n",
    "print(exam_df[\"수학\"].std())\n",
    "print(exam_df[\"수학\"].var())\n",
    "print(exam_df[\"수학\"].sem())\n",
    "print(exam_df[\"수학\"].min())\n",
    "print(exam_df[\"수학\"].max())\n",
    "\n",
    "print(exam_df[\"수학\"].describe())    #위의 특성을 한번에 확인할 수 있음"
   ]
  },
  {
   "cell_type": "markdown",
   "metadata": {},
   "source": [
    "## seaborn으로 파일 가져오기"
   ]
  },
  {
   "cell_type": "code",
   "execution_count": 13,
   "metadata": {},
   "outputs": [
    {
     "name": "stdout",
     "output_type": "stream",
     "text": [
      "['anagrams', 'anscombe', 'attention', 'brain_networks', 'car_crashes', 'diamonds', 'dots', 'dowjones', 'exercise', 'flights', 'fmri', 'geyser', 'glue', 'healthexp', 'iris', 'mpg', 'penguins', 'planets', 'seaice', 'taxis', 'tips', 'titanic']\n",
      "   total_bill   tip     sex smoker  day    time  size\n",
      "0       16.99  1.01  Female     No  Sun  Dinner     2\n",
      "1       10.34  1.66    Male     No  Sun  Dinner     3\n",
      "2       21.01  3.50    Male     No  Sun  Dinner     3\n",
      "3       23.68  3.31    Male     No  Sun  Dinner     2\n",
      "4       24.59  3.61  Female     No  Sun  Dinner     4\n"
     ]
    }
   ],
   "source": [
    "## sns - load\n",
    "\n",
    "print(sns.get_dataset_names())\n",
    "tips = sns.load_dataset(\"tips\")\n",
    "print(tips.head())"
   ]
  },
  {
   "cell_type": "code",
   "execution_count": 22,
   "metadata": {},
   "outputs": [
    {
     "name": "stdout",
     "output_type": "stream",
     "text": [
      "correlation = \n",
      "             total_bill       tip\n",
      "total_bill    1.000000  0.675734\n",
      "tip           0.675734  1.000000\n"
     ]
    },
    {
     "data": {
      "image/png": "[encoded data removed]",
      "text/plain": [
       "<Figure size 640x480 with 1 Axes>"
      ]
     },
     "metadata": {},
     "output_type": "display_data"
    }
   ],
   "source": [
    "## correlation\n",
    "print(\"correlation = \\n\", tips[[\"total_bill\",\"tip\"]].corr())\n",
    "\n",
    "plt.scatter(tips[\"total_bill\"],tips[\"tip\"], s = 20)\n",
    "plt.show()"
   ]
  },
  {
   "cell_type": "markdown",
   "metadata": {},
   "source": [
    "## csv 파일 불러오기"
   ]
  },
  {
   "cell_type": "code",
   "execution_count": 28,
   "metadata": {},
   "outputs": [
    {
     "data": {
      "text/html": [
       "<div>\n",
       "<style scoped>\n",
       "    .dataframe tbody tr th:only-of-type {\n",
       "        vertical-align: middle;\n",
       "    }\n",
       "\n",
       "    .dataframe tbody tr th {\n",
       "        vertical-align: top;\n",
       "    }\n",
       "\n",
       "    .dataframe thead th {\n",
       "        text-align: right;\n",
       "    }\n",
       "</style>\n",
       "<table border=\"1\" class=\"dataframe\">\n",
       "  <thead>\n",
       "    <tr style=\"text-align: right;\">\n",
       "      <th></th>\n",
       "      <th>speed</th>\n",
       "      <th>dist</th>\n",
       "    </tr>\n",
       "  </thead>\n",
       "  <tbody>\n",
       "    <tr>\n",
       "      <th>0</th>\n",
       "      <td>4</td>\n",
       "      <td>2</td>\n",
       "    </tr>\n",
       "    <tr>\n",
       "      <th>1</th>\n",
       "      <td>4</td>\n",
       "      <td>10</td>\n",
       "    </tr>\n",
       "    <tr>\n",
       "      <th>2</th>\n",
       "      <td>7</td>\n",
       "      <td>4</td>\n",
       "    </tr>\n",
       "    <tr>\n",
       "      <th>3</th>\n",
       "      <td>7</td>\n",
       "      <td>22</td>\n",
       "    </tr>\n",
       "    <tr>\n",
       "      <th>4</th>\n",
       "      <td>8</td>\n",
       "      <td>16</td>\n",
       "    </tr>\n",
       "  </tbody>\n",
       "</table>\n",
       "</div>"
      ],
      "text/plain": [
       "   speed  dist\n",
       "0      4     2\n",
       "1      4    10\n",
       "2      7     4\n",
       "3      7    22\n",
       "4      8    16"
      ]
     },
     "execution_count": 28,
     "metadata": {},
     "output_type": "execute_result"
    }
   ],
   "source": [
    "## excel\n",
    "\n",
    "fname = \"cars.csv\"\n",
    "file = os.path.join(fpath, fname)\n",
    "\n",
    "## csv\n",
    "cars_df = pd.read_csv(file)\n",
    "cars_df.head()"
   ]
  },
  {
   "cell_type": "markdown",
   "metadata": {},
   "source": [
    "## 엑셀 불러오기"
   ]
  },
  {
   "cell_type": "code",
   "execution_count": 29,
   "metadata": {},
   "outputs": [
    {
     "data": {
      "text/html": [
       "<div>\n",
       "<style scoped>\n",
       "    .dataframe tbody tr th:only-of-type {\n",
       "        vertical-align: middle;\n",
       "    }\n",
       "\n",
       "    .dataframe tbody tr th {\n",
       "        vertical-align: top;\n",
       "    }\n",
       "\n",
       "    .dataframe thead th {\n",
       "        text-align: right;\n",
       "    }\n",
       "</style>\n",
       "<table border=\"1\" class=\"dataframe\">\n",
       "  <thead>\n",
       "    <tr style=\"text-align: right;\">\n",
       "      <th></th>\n",
       "      <th>group</th>\n",
       "      <th>id</th>\n",
       "      <th>time</th>\n",
       "      <th>hz0.04</th>\n",
       "      <th>hz0.08</th>\n",
       "      <th>hz0.1</th>\n",
       "      <th>hz0.16</th>\n",
       "      <th>hz0.32</th>\n",
       "      <th>hz0.64</th>\n",
       "      <th>hz1</th>\n",
       "    </tr>\n",
       "  </thead>\n",
       "  <tbody>\n",
       "    <tr>\n",
       "      <th>0</th>\n",
       "      <td>1</td>\n",
       "      <td>1</td>\n",
       "      <td>Pre</td>\n",
       "      <td>0.213840</td>\n",
       "      <td>0.717955</td>\n",
       "      <td>0.848727</td>\n",
       "      <td>0.850790</td>\n",
       "      <td>0.802738</td>\n",
       "      <td>0.808393</td>\n",
       "      <td>0.738967</td>\n",
       "    </tr>\n",
       "    <tr>\n",
       "      <th>1</th>\n",
       "      <td>1</td>\n",
       "      <td>2</td>\n",
       "      <td>Pre</td>\n",
       "      <td>0.345725</td>\n",
       "      <td>0.795440</td>\n",
       "      <td>0.781473</td>\n",
       "      <td>0.924972</td>\n",
       "      <td>0.801245</td>\n",
       "      <td>0.803880</td>\n",
       "      <td>0.781420</td>\n",
       "    </tr>\n",
       "    <tr>\n",
       "      <th>2</th>\n",
       "      <td>1</td>\n",
       "      <td>3</td>\n",
       "      <td>Pre</td>\n",
       "      <td>0.376285</td>\n",
       "      <td>0.799327</td>\n",
       "      <td>0.781350</td>\n",
       "      <td>0.777773</td>\n",
       "      <td>0.868007</td>\n",
       "      <td>0.868853</td>\n",
       "      <td>0.754252</td>\n",
       "    </tr>\n",
       "    <tr>\n",
       "      <th>3</th>\n",
       "      <td>1</td>\n",
       "      <td>4</td>\n",
       "      <td>Pre</td>\n",
       "      <td>0.451440</td>\n",
       "      <td>0.771083</td>\n",
       "      <td>0.808645</td>\n",
       "      <td>0.787825</td>\n",
       "      <td>0.839985</td>\n",
       "      <td>0.832352</td>\n",
       "      <td>0.818722</td>\n",
       "    </tr>\n",
       "    <tr>\n",
       "      <th>4</th>\n",
       "      <td>1</td>\n",
       "      <td>5</td>\n",
       "      <td>Pre</td>\n",
       "      <td>0.287360</td>\n",
       "      <td>0.825547</td>\n",
       "      <td>0.831303</td>\n",
       "      <td>0.818332</td>\n",
       "      <td>0.817320</td>\n",
       "      <td>0.816153</td>\n",
       "      <td>0.836298</td>\n",
       "    </tr>\n",
       "  </tbody>\n",
       "</table>\n",
       "</div>"
      ],
      "text/plain": [
       "   group  id time    hz0.04    hz0.08     hz0.1    hz0.16    hz0.32    hz0.64  \\\n",
       "0      1   1  Pre  0.213840  0.717955  0.848727  0.850790  0.802738  0.808393   \n",
       "1      1   2  Pre  0.345725  0.795440  0.781473  0.924972  0.801245  0.803880   \n",
       "2      1   3  Pre  0.376285  0.799327  0.781350  0.777773  0.868007  0.868853   \n",
       "3      1   4  Pre  0.451440  0.771083  0.808645  0.787825  0.839985  0.832352   \n",
       "4      1   5  Pre  0.287360  0.825547  0.831303  0.818332  0.817320  0.816153   \n",
       "\n",
       "        hz1  \n",
       "0  0.738967  \n",
       "1  0.781420  \n",
       "2  0.754252  \n",
       "3  0.818722  \n",
       "4  0.836298  "
      ]
     },
     "execution_count": 29,
     "metadata": {},
     "output_type": "execute_result"
    }
   ],
   "source": [
    "## excel\n",
    "\n",
    "fname = \"vor_r.xlsx\"\n",
    "file = os.path.join(fpath, fname)\n",
    "vor_df = pd.read_excel(file)         #\"./dataset/vor_r.xlsx\"\n",
    "vor_df.head()"
   ]
  },
  {
   "cell_type": "markdown",
   "metadata": {},
   "source": [
    "## merage_groupby"
   ]
  },
  {
   "cell_type": "code",
   "execution_count": 31,
   "metadata": {},
   "outputs": [
    {
     "name": "stdout",
     "output_type": "stream",
     "text": [
      "df1 = \n",
      "     a   b   c\n",
      "0  a0  b0  c0\n",
      "1  a1  b1  c1\n",
      "2  a2  b2  c2\n",
      "3  a3  b3  c3\n",
      "df2 = \n",
      "     a   b   c   d\n",
      "2  a2  b2  c2  d2\n",
      "3  a3  b3  c3  d3\n",
      "4  a4  b4  c4  d4\n",
      "5  a5  b5  c5  d5\n"
     ]
    }
   ],
   "source": [
    "df1 = pd.DataFrame({'a': ['a0', 'a1', 'a2', 'a3'],\n",
    "                    'b': ['b0', 'b1', 'b2', 'b3'],\n",
    "                    'c': ['c0', 'c1', 'c2', 'c3']},\n",
    "                    index=[0, 1, 2, 3])\n",
    "\n",
    "df2 = pd.DataFrame({'a': ['a2', 'a3', 'a4', 'a5'],\n",
    "                    'b': ['b2', 'b3', 'b4', 'b5'],\n",
    "                    'c': ['c2', 'c3', 'c4', 'c5'],\n",
    "                    'd': ['d2', 'd3', 'd4', 'd5']},\n",
    "                    index=[2, 3, 4, 5])\n",
    "\n",
    "print(\"df1 = \\n\", df1)\n",
    "print(\"df2 = \\n\", df2)"
   ]
  },
  {
   "cell_type": "markdown",
   "metadata": {},
   "source": [
    "## concat으로 조인"
   ]
  },
  {
   "cell_type": "code",
   "execution_count": 44,
   "metadata": {},
   "outputs": [
    {
     "name": "stdout",
     "output_type": "stream",
     "text": [
      "pd.concat([df1,df2]) = \n",
      "     a   b   c\n",
      "0  a0  b0  c0\n",
      "1  a1  b1  c1\n",
      "2  a2  b2  c2\n",
      "3  a3  b3  c3\n",
      "4  a2  b2  c2\n",
      "5  a3  b3  c3\n",
      "6  a4  b4  c4\n",
      "7  a5  b5  c5\n"
     ]
    }
   ],
   "source": [
    "## concatenation : 병합\n",
    "## 행 방향으로 병합 : 컬럼 이름과 같을 때\n",
    "\n",
    "concat_row = pd.concat([df1, df2], join = \"inner\", ignore_index= True)  #join : outer, inner 조인\n",
    "print(\"pd.concat([df1,df2]) = \\n\",concat_row)"
   ]
  },
  {
   "cell_type": "code",
   "execution_count": 45,
   "metadata": {},
   "outputs": [
    {
     "name": "stdout",
     "output_type": "stream",
     "text": [
      "     a    b    c    a    b    c    d\n",
      "0   a0   b0   c0  NaN  NaN  NaN  NaN\n",
      "1   a1   b1   c1  NaN  NaN  NaN  NaN\n",
      "2   a2   b2   c2   a2   b2   c2   d2\n",
      "3   a3   b3   c3   a3   b3   c3   d3\n",
      "4  NaN  NaN  NaN   a4   b4   c4   d4\n",
      "5  NaN  NaN  NaN   a5   b5   c5   d5\n"
     ]
    }
   ],
   "source": [
    "# 열 방향으로 병합 : 인덱스 기준 병합\n",
    "\n",
    "concat_col = pd.concat([df1, df2], axis = 1)\n",
    "print(concat_col)"
   ]
  },
  {
   "cell_type": "markdown",
   "metadata": {},
   "source": [
    "## join으로 조인하기"
   ]
  },
  {
   "cell_type": "code",
   "execution_count": 64,
   "metadata": {},
   "outputs": [
    {
     "name": "stdout",
     "output_type": "stream",
     "text": [
      "df1 = \n",
      "        stock_name          value   price\n",
      "id                                      \n",
      "128940       한미약품   59385.666667  421000\n",
      "130960     CJ E&M   58540.666667   98900\n",
      "138250      엔에스쇼핑   14558.666667   13200\n",
      "139480        이마트  239230.833333  254500\n",
      "142280     녹십자엠에스     468.833333   10200\n",
      "145990        삼양사   82750.000000   82000\n",
      "185750        종근당   40293.666667  100500\n",
      "192400      쿠쿠홀딩스  179204.666667  177500\n",
      "199800         툴젠   -2514.333333  115400\n",
      "204210     모두투어리츠    3093.333333    3475\n",
      "\n",
      "df2 = \n",
      "              name           eps     bps        per       pbr\n",
      "id                                                          \n",
      "130960     CJ E&M   6301.333333   54068  15.695091  1.829178\n",
      "136480         하림    274.166667    3551  11.489362  0.887074\n",
      "138040    메리츠금융지주   2122.333333   14894   6.313806  0.899691\n",
      "139480        이마트  18268.166667  295780  13.931338  0.860437\n",
      "145990        삼양사   5741.000000  108090  14.283226  0.758627\n",
      "161390      한국타이어   5648.500000   51341   7.453306  0.820007\n",
      "181710  NHN엔터테인먼트   2110.166667   78434  30.755864  0.827447\n",
      "185750        종근당   3990.333333   40684  25.185866  2.470259\n",
      "204210     모두투어리츠     85.166667    5335  40.802348  0.651359\n",
      "207940   삼성바이오로직스   4644.166667   60099  89.790059  6.938551\n"
     ]
    }
   ],
   "source": [
    "df1 = pd.read_excel(\"./dataset/stock price.xlsx\")\n",
    "df2 = pd.read_excel(\"./dataset/stock valuation.xlsx\")\n",
    "\n",
    "df1.set_index(\"id\", inplace=True)   #인덱스를 id로 수정\n",
    "df2.set_index(\"id\", inplace=True)   #인덱스를 id로 수정\n",
    "\n",
    "print(\"df1 = \\n\",df1)\n",
    "print()\n",
    "print(\"df2 = \\n\",df2)\n"
   ]
  },
  {
   "cell_type": "code",
   "execution_count": 72,
   "metadata": {},
   "outputs": [
    {
     "name": "stdout",
     "output_type": "stream",
     "text": [
      "df3 = \n",
      "        stock_name          value   price    name           eps     bps  \\\n",
      "id                                                                       \n",
      "130960     CJ E&M   58540.666667   98900  CJ E&M   6301.333333   54068   \n",
      "139480        이마트  239230.833333  254500     이마트  18268.166667  295780   \n",
      "145990        삼양사   82750.000000   82000     삼양사   5741.000000  108090   \n",
      "185750        종근당   40293.666667  100500     종근당   3990.333333   40684   \n",
      "204210     모두투어리츠    3093.333333    3475  모두투어리츠     85.166667    5335   \n",
      "\n",
      "              per       pbr  \n",
      "id                           \n",
      "130960  15.695091  1.829178  \n",
      "139480  13.931338  0.860437  \n",
      "145990  14.283226  0.758627  \n",
      "185750  25.185866  2.470259  \n",
      "204210  40.802348  0.651359  \n",
      "\n",
      "df4 = \n",
      "           name           eps     bps        per       pbr stock_name  \\\n",
      "id                                                                     \n",
      "130960  CJ E&M   6301.333333   54068  15.695091  1.829178     CJ E&M   \n",
      "139480     이마트  18268.166667  295780  13.931338  0.860437        이마트   \n",
      "145990     삼양사   5741.000000  108090  14.283226  0.758627        삼양사   \n",
      "185750     종근당   3990.333333   40684  25.185866  2.470259        종근당   \n",
      "204210  모두투어리츠     85.166667    5335  40.802348  0.651359     모두투어리츠   \n",
      "\n",
      "                value   price  \n",
      "id                             \n",
      "130960   58540.666667   98900  \n",
      "139480  239230.833333  254500  \n",
      "145990   82750.000000   82000  \n",
      "185750   40293.666667  100500  \n",
      "204210    3093.333333    3475  \n"
     ]
    }
   ],
   "source": [
    "df3 = df1.join(df2, lsuffix = \"x\", rsuffix = \"y\", how = \"inner\")\n",
    "df4 = df2.join(df1, how = \"inner\")\n",
    "\n",
    "print(\"df3 = \\n\",df3)\n",
    "print()\n",
    "print(\"df4 = \\n\",df4)"
   ]
  },
  {
   "cell_type": "markdown",
   "metadata": {},
   "source": [
    "## Merge로 조인하기"
   ]
  },
  {
   "cell_type": "code",
   "execution_count": 74,
   "metadata": {},
   "outputs": [
    {
     "name": "stdout",
     "output_type": "stream",
     "text": [
      "df1 = \n",
      "        id stock_name          value   price\n",
      "0  128940       한미약품   59385.666667  421000\n",
      "1  130960     CJ E&M   58540.666667   98900\n",
      "2  138250      엔에스쇼핑   14558.666667   13200\n",
      "3  139480        이마트  239230.833333  254500\n",
      "4  142280     녹십자엠에스     468.833333   10200\n",
      "5  145990        삼양사   82750.000000   82000\n",
      "6  185750        종근당   40293.666667  100500\n",
      "7  192400      쿠쿠홀딩스  179204.666667  177500\n",
      "8  199800         툴젠   -2514.333333  115400\n",
      "9  204210     모두투어리츠    3093.333333    3475\n",
      "\n",
      "df2 = \n",
      "        id       name           eps     bps        per       pbr\n",
      "0  130960     CJ E&M   6301.333333   54068  15.695091  1.829178\n",
      "1  136480         하림    274.166667    3551  11.489362  0.887074\n",
      "2  138040    메리츠금융지주   2122.333333   14894   6.313806  0.899691\n",
      "3  139480        이마트  18268.166667  295780  13.931338  0.860437\n",
      "4  145990        삼양사   5741.000000  108090  14.283226  0.758627\n",
      "5  161390      한국타이어   5648.500000   51341   7.453306  0.820007\n",
      "6  181710  NHN엔터테인먼트   2110.166667   78434  30.755864  0.827447\n",
      "7  185750        종근당   3990.333333   40684  25.185866  2.470259\n",
      "8  204210     모두투어리츠     85.166667    5335  40.802348  0.651359\n",
      "9  207940   삼성바이오로직스   4644.166667   60099  89.790059  6.938551\n"
     ]
    }
   ],
   "source": [
    "df1 = pd.read_excel(\"./dataset/stock price.xlsx\")\n",
    "df2 = pd.read_excel(\"./dataset/stock valuation.xlsx\")\n",
    "\n",
    "print(\"df1 = \\n\",df1)\n",
    "print()\n",
    "print(\"df2 = \\n\",df2)"
   ]
  },
  {
   "cell_type": "code",
   "execution_count": 88,
   "metadata": {},
   "outputs": [
    {
     "name": "stdout",
     "output_type": "stream",
     "text": [
      "merge_df2 = \n",
      "      id_x stock_name          value   price      id_y    name           eps  \\\n",
      "0  128940       한미약품   59385.666667  421000       NaN     NaN           NaN   \n",
      "1  130960     CJ E&M   58540.666667   98900  130960.0  CJ E&M   6301.333333   \n",
      "2  138250      엔에스쇼핑   14558.666667   13200       NaN     NaN           NaN   \n",
      "3  139480        이마트  239230.833333  254500  139480.0     이마트  18268.166667   \n",
      "4  142280     녹십자엠에스     468.833333   10200       NaN     NaN           NaN   \n",
      "5  145990        삼양사   82750.000000   82000  145990.0     삼양사   5741.000000   \n",
      "6  185750        종근당   40293.666667  100500  185750.0     종근당   3990.333333   \n",
      "7  192400      쿠쿠홀딩스  179204.666667  177500       NaN     NaN           NaN   \n",
      "8  199800         툴젠   -2514.333333  115400       NaN     NaN           NaN   \n",
      "9  204210     모두투어리츠    3093.333333    3475  204210.0  모두투어리츠     85.166667   \n",
      "\n",
      "        bps        per       pbr  \n",
      "0       NaN        NaN       NaN  \n",
      "1   54068.0  15.695091  1.829178  \n",
      "2       NaN        NaN       NaN  \n",
      "3  295780.0  13.931338  0.860437  \n",
      "4       NaN        NaN       NaN  \n",
      "5  108090.0  14.283226  0.758627  \n",
      "6   40684.0  25.185866  2.470259  \n",
      "7       NaN        NaN       NaN  \n",
      "8       NaN        NaN       NaN  \n",
      "9    5335.0  40.802348  0.651359  \n"
     ]
    }
   ],
   "source": [
    "##merge\n",
    "\n",
    "merge_inner = pd.merge(df1, df2, how = \"inner\", on = \"id\")  #on : id기준 조인\n",
    "#print(\"merge inner = \\n\",merge_inner)\n",
    "\n",
    "#print(\"*\"*100)\n",
    "\n",
    "merge_outer = pd.merge(df1, df2, how = \"outer\", on = \"id\")  \n",
    "#print(\"merge outer = \\n\",merge_outer)\n",
    "\n",
    "## left_on의 stock_name 과 right_on의 name에서 같은 것을 병합하겠음\n",
    "merge_df2 = pd.merge(df1, df2, how = \"left\", left_on = \"stock_name\", right_on = \"name\")\n",
    "print(\"merge_df2 = \\n\", merge_df2)\n"
   ]
  },
  {
   "cell_type": "markdown",
   "metadata": {},
   "source": [
    "### concat, join과 merge의 차이\n",
    "\n",
    "- concat과 join은 인덱스를 가지고 조인함\n",
    "- marge는 on을 사용해서 해당 컬럼을 활용해 조인함 : 자의도가 높음"
   ]
  },
  {
   "cell_type": "markdown",
   "metadata": {},
   "source": [
    "## titanic을 이용한 실습"
   ]
  },
  {
   "cell_type": "code",
   "execution_count": 104,
   "metadata": {},
   "outputs": [
    {
     "name": "stdout",
     "output_type": "stream",
     "text": [
      "   survived  pclass     sex   age  sibsp  parch     fare embarked  class  \\\n",
      "0         0       3    male  22.0      1      0   7.2500        S  Third   \n",
      "1         1       1  female  38.0      1      0  71.2833        C  First   \n",
      "2         1       3  female  26.0      0      0   7.9250        S  Third   \n",
      "3         1       1  female  35.0      1      0  53.1000        S  First   \n",
      "4         0       3    male  35.0      0      0   8.0500        S  Third   \n",
      "\n",
      "     who  adult_male deck  embark_town alive  alone  \n",
      "0    man        True  NaN  Southampton    no  False  \n",
      "1  woman       False    C    Cherbourg   yes  False  \n",
      "2  woman       False  NaN  Southampton   yes   True  \n",
      "3  woman       False    C  Southampton   yes  False  \n",
      "4    man        True  NaN  Southampton    no   True  \n"
     ]
    },
    {
     "data": {
      "text/html": [
       "<div>\n",
       "<style scoped>\n",
       "    .dataframe tbody tr th:only-of-type {\n",
       "        vertical-align: middle;\n",
       "    }\n",
       "\n",
       "    .dataframe tbody tr th {\n",
       "        vertical-align: top;\n",
       "    }\n",
       "\n",
       "    .dataframe thead th {\n",
       "        text-align: right;\n",
       "    }\n",
       "</style>\n",
       "<table border=\"1\" class=\"dataframe\">\n",
       "  <thead>\n",
       "    <tr style=\"text-align: right;\">\n",
       "      <th></th>\n",
       "      <th>survived</th>\n",
       "      <th>pclass</th>\n",
       "      <th>sex</th>\n",
       "      <th>age</th>\n",
       "      <th>sibsp</th>\n",
       "      <th>parch</th>\n",
       "      <th>fare</th>\n",
       "    </tr>\n",
       "  </thead>\n",
       "  <tbody>\n",
       "    <tr>\n",
       "      <th>0</th>\n",
       "      <td>0</td>\n",
       "      <td>3</td>\n",
       "      <td>male</td>\n",
       "      <td>22.0</td>\n",
       "      <td>1</td>\n",
       "      <td>0</td>\n",
       "      <td>7.2500</td>\n",
       "    </tr>\n",
       "    <tr>\n",
       "      <th>1</th>\n",
       "      <td>1</td>\n",
       "      <td>1</td>\n",
       "      <td>female</td>\n",
       "      <td>38.0</td>\n",
       "      <td>1</td>\n",
       "      <td>0</td>\n",
       "      <td>71.2833</td>\n",
       "    </tr>\n",
       "    <tr>\n",
       "      <th>2</th>\n",
       "      <td>1</td>\n",
       "      <td>3</td>\n",
       "      <td>female</td>\n",
       "      <td>26.0</td>\n",
       "      <td>0</td>\n",
       "      <td>0</td>\n",
       "      <td>7.9250</td>\n",
       "    </tr>\n",
       "    <tr>\n",
       "      <th>3</th>\n",
       "      <td>1</td>\n",
       "      <td>1</td>\n",
       "      <td>female</td>\n",
       "      <td>35.0</td>\n",
       "      <td>1</td>\n",
       "      <td>0</td>\n",
       "      <td>53.1000</td>\n",
       "    </tr>\n",
       "    <tr>\n",
       "      <th>4</th>\n",
       "      <td>0</td>\n",
       "      <td>3</td>\n",
       "      <td>male</td>\n",
       "      <td>35.0</td>\n",
       "      <td>0</td>\n",
       "      <td>0</td>\n",
       "      <td>8.0500</td>\n",
       "    </tr>\n",
       "  </tbody>\n",
       "</table>\n",
       "</div>"
      ],
      "text/plain": [
       "   survived  pclass     sex   age  sibsp  parch     fare\n",
       "0         0       3    male  22.0      1      0   7.2500\n",
       "1         1       1  female  38.0      1      0  71.2833\n",
       "2         1       3  female  26.0      0      0   7.9250\n",
       "3         1       1  female  35.0      1      0  53.1000\n",
       "4         0       3    male  35.0      0      0   8.0500"
      ]
     },
     "execution_count": 104,
     "metadata": {},
     "output_type": "execute_result"
    }
   ],
   "source": [
    "titanic_df = sns.load_dataset(\"titanic\")\n",
    "print(titanic_df.head())\n",
    "\n",
    "df = titanic_df.loc[:,:\"fare\"]\n",
    "df.head()"
   ]
  },
  {
   "cell_type": "code",
   "execution_count": 115,
   "metadata": {},
   "outputs": [
    {
     "name": "stdout",
     "output_type": "stream",
     "text": [
      "fare mean =  32.204\n"
     ]
    },
    {
     "data": {
      "text/plain": [
       "pclass\n",
       "1    84.154687\n",
       "2    20.662183\n",
       "3    13.675550\n",
       "Name: fare, dtype: float64"
      ]
     },
     "execution_count": 115,
     "metadata": {},
     "output_type": "execute_result"
    }
   ],
   "source": [
    "print(\"fare mean = \",df[\"fare\"].mean().round(3))\n",
    "\n",
    "## class\n",
    "pclass1 = df[\"pclass\"] == 1\n",
    "pclass1_df = df[pclass1]\n",
    "pclass1_df[\"fare\"].mean()\n",
    "\n",
    "pclass2 = df[\"pclass\"] == 2\n",
    "pclass2_df = df[pclass2]\n",
    "pclass2_df[\"fare\"].mean()\n",
    "\n",
    "#groupby를 사용한 class\n",
    "group_pclass = df.groupby(\"pclass\")\n",
    "group_pclass[\"fare\"].mean()"
   ]
  },
  {
   "cell_type": "code",
   "execution_count": 116,
   "metadata": {},
   "outputs": [
    {
     "name": "stdout",
     "output_type": "stream",
     "text": [
      "fare by survival :\n",
      "survived\n",
      "0    22.117887\n",
      "1    48.395408\n",
      "Name: fare, dtype: float64\n",
      "\n",
      " ****************************************************************************************************\n",
      "fare by survival :\n",
      "               fare        age     sibsp\n",
      "survived                                \n",
      "0         22.117887  30.626179  0.553734\n",
      "1         48.395408  28.343690  0.473684\n"
     ]
    }
   ],
   "source": [
    "##survived\n",
    "\n",
    "group_survived = df.groupby('survived')\n",
    "print(\"fare by survival :\")\n",
    "print(group_survived[\"fare\"].mean())\n",
    "\n",
    "print(\"\\n\",\"*\"*100)\n",
    "\n",
    "\n",
    "group_sibsp = df.groupby('survived')\n",
    "print(\"fare by survival :\")\n",
    "print(group_survived[[\"fare\",\"age\",\"sibsp\"]].mean())\n",
    "\n",
    "#sibsp - 검정이 필요함\n",
    "#참고 : inference, t-test\n"
   ]
  },
  {
   "cell_type": "code",
   "execution_count": 106,
   "metadata": {},
   "outputs": [
    {
     "name": "stdout",
     "output_type": "stream",
     "text": [
      "fare by sex :\n",
      "sex\n",
      "female    44.479818\n",
      "male      25.523893\n",
      "Name: fare, dtype: float64\n"
     ]
    }
   ],
   "source": [
    "## sex\n",
    "\n",
    "group_sex = df.groupby('sex')\n",
    "print(\"fare by sex :\")\n",
    "print(group_sex[\"fare\"].mean())"
   ]
  },
  {
   "cell_type": "code",
   "execution_count": 117,
   "metadata": {},
   "outputs": [
    {
     "data": {
      "text/plain": [
       "survived  sex   \n",
       "0         male      468\n",
       "          female     81\n",
       "1         female    233\n",
       "          male      109\n",
       "Name: count, dtype: int64"
      ]
     },
     "execution_count": 117,
     "metadata": {},
     "output_type": "execute_result"
    }
   ],
   "source": [
    "##\n",
    "\n",
    "grouped_sur = df.groupby(\"survived\")\n",
    "grouped_sur['sex'].value_counts()"
   ]
  },
  {
   "cell_type": "code",
   "execution_count": 125,
   "metadata": {},
   "outputs": [],
   "source": [
    "group_survived = df.groupby([\"survived\",\"pclass\"])"
   ]
  },
  {
   "cell_type": "code",
   "execution_count": 126,
   "metadata": {},
   "outputs": [
    {
     "name": "stdout",
     "output_type": "stream",
     "text": [
      "mean =  29.69911764705882\n",
      "median =  28.0\n"
     ]
    },
    {
     "data": {
      "text/html": [
       "<div>\n",
       "<style scoped>\n",
       "    .dataframe tbody tr th:only-of-type {\n",
       "        vertical-align: middle;\n",
       "    }\n",
       "\n",
       "    .dataframe tbody tr th {\n",
       "        vertical-align: top;\n",
       "    }\n",
       "\n",
       "    .dataframe thead th {\n",
       "        text-align: right;\n",
       "    }\n",
       "</style>\n",
       "<table border=\"1\" class=\"dataframe\">\n",
       "  <thead>\n",
       "    <tr style=\"text-align: right;\">\n",
       "      <th></th>\n",
       "      <th></th>\n",
       "      <th>mean</th>\n",
       "      <th>std</th>\n",
       "      <th>median</th>\n",
       "      <th>min</th>\n",
       "      <th>max</th>\n",
       "    </tr>\n",
       "    <tr>\n",
       "      <th>survived</th>\n",
       "      <th>pclass</th>\n",
       "      <th></th>\n",
       "      <th></th>\n",
       "      <th></th>\n",
       "      <th></th>\n",
       "      <th></th>\n",
       "    </tr>\n",
       "  </thead>\n",
       "  <tbody>\n",
       "    <tr>\n",
       "      <th rowspan=\"3\" valign=\"top\">0</th>\n",
       "      <th>1</th>\n",
       "      <td>43.695312</td>\n",
       "      <td>15.284243</td>\n",
       "      <td>45.25</td>\n",
       "      <td>2.00</td>\n",
       "      <td>71.0</td>\n",
       "    </tr>\n",
       "    <tr>\n",
       "      <th>2</th>\n",
       "      <td>33.544444</td>\n",
       "      <td>12.151581</td>\n",
       "      <td>30.50</td>\n",
       "      <td>16.00</td>\n",
       "      <td>70.0</td>\n",
       "    </tr>\n",
       "    <tr>\n",
       "      <th>3</th>\n",
       "      <td>26.555556</td>\n",
       "      <td>12.334882</td>\n",
       "      <td>25.00</td>\n",
       "      <td>1.00</td>\n",
       "      <td>74.0</td>\n",
       "    </tr>\n",
       "    <tr>\n",
       "      <th rowspan=\"3\" valign=\"top\">1</th>\n",
       "      <th>1</th>\n",
       "      <td>35.368197</td>\n",
       "      <td>13.760017</td>\n",
       "      <td>35.00</td>\n",
       "      <td>0.92</td>\n",
       "      <td>80.0</td>\n",
       "    </tr>\n",
       "    <tr>\n",
       "      <th>2</th>\n",
       "      <td>25.901566</td>\n",
       "      <td>14.837787</td>\n",
       "      <td>28.00</td>\n",
       "      <td>0.67</td>\n",
       "      <td>62.0</td>\n",
       "    </tr>\n",
       "    <tr>\n",
       "      <th>3</th>\n",
       "      <td>20.646118</td>\n",
       "      <td>11.995047</td>\n",
       "      <td>22.00</td>\n",
       "      <td>0.42</td>\n",
       "      <td>63.0</td>\n",
       "    </tr>\n",
       "  </tbody>\n",
       "</table>\n",
       "</div>"
      ],
      "text/plain": [
       "                      mean        std  median    min   max\n",
       "survived pclass                                           \n",
       "0        1       43.695312  15.284243   45.25   2.00  71.0\n",
       "         2       33.544444  12.151581   30.50  16.00  70.0\n",
       "         3       26.555556  12.334882   25.00   1.00  74.0\n",
       "1        1       35.368197  13.760017   35.00   0.92  80.0\n",
       "         2       25.901566  14.837787   28.00   0.67  62.0\n",
       "         3       20.646118  11.995047   22.00   0.42  63.0"
      ]
     },
     "execution_count": 126,
     "metadata": {},
     "output_type": "execute_result"
    }
   ],
   "source": [
    "df.head()\n",
    "print(\"mean = \",df[\"age\"].mean())\n",
    "print(\"median = \",df[\"age\"].median())\n",
    "\n",
    "\n",
    "df[\"age\"].agg([\"mean\",\"std\",\"median\",\"min\",\"max\"])\n",
    "group_survived[\"age\"].agg([\"mean\",\"std\",\"median\",\"min\",\"max\"])"
   ]
  },
  {
   "cell_type": "code",
   "execution_count": null,
   "metadata": {},
   "outputs": [],
   "source": []
  }
 ],
 "metadata": {
  "kernelspec": {
   "display_name": "Python 3",
   "language": "python",
   "name": "python3"
  },
  "language_info": {
   "codemirror_mode": {
    "name": "ipython",
    "version": 3
   },
   "file_extension": ".py",
   "mimetype": "text/x-python",
   "name": "python",
   "nbconvert_exporter": "python",
   "pygments_lexer": "ipython3",
   "version": "3.11.9"
  }
 },
 "nbformat": 4,
 "nbformat_minor": 2
}
